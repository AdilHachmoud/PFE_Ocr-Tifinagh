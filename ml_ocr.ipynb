{
  "nbformat": 4,
  "nbformat_minor": 0,
  "metadata": {
    "colab": {
      "name": "Test.ipynb",
      "provenance": [],
      "collapsed_sections": [],
      "toc_visible": true,
      "include_colab_link": true
    },
    "kernelspec": {
      "name": "python3",
      "display_name": "Python 3"
    },
    "accelerator": "GPU"
  },
  "cells": [
    {
      "cell_type": "markdown",
      "metadata": {
        "id": "view-in-github",
        "colab_type": "text"
      },
      "source": [
        "<a href=\"https://colab.research.google.com/github/abderrazzaq-laanoui/PFE-HexaCoders/blob/main/ml_ocr.ipynb\" target=\"_parent\"><img src=\"https://colab.research.google.com/assets/colab-badge.svg\" alt=\"Open In Colab\"/></a>"
      ]
    },
    {
      "cell_type": "markdown",
      "metadata": {
        "id": "E8hCO76eiaTU"
      },
      "source": [
        "<div style=\"text-align:center\"><h1>RECONNAISSANCE DE L'ÉCRITURE MANUSCRITE DE LESTTRES TIFINAGH </h1></div>\r\n",
        "\r\n",
        "---"
      ]
    },
    {
      "cell_type": "markdown",
      "metadata": {
        "id": "CACEY3QXpYdB"
      },
      "source": [
        "# dépendances"
      ]
    },
    {
      "cell_type": "markdown",
      "metadata": {
        "id": "qiufKkBMpkLy"
      },
      "source": [
        "#### Liaison avec Google Drive"
      ]
    },
    {
      "cell_type": "code",
      "metadata": {
        "colab": {
          "base_uri": "https://localhost:8080/"
        },
        "id": "wrxPNHSdpikm",
        "outputId": "56c324fe-ef35-4108-81b9-6ca3dcf9bece"
      },
      "source": [
        "# liaison avec  Google Drive comme source de donnees \r\n",
        "from google.colab import drive\r\n",
        "drive.mount('/content/drive')"
      ],
      "execution_count": null,
      "outputs": [
        {
          "output_type": "stream",
          "text": [
            "Mounted at /content/drive\n"
          ],
          "name": "stdout"
        }
      ]
    },
    {
      "cell_type": "markdown",
      "metadata": {
        "id": "puJQ-cszpuEL"
      },
      "source": [
        "#### importations"
      ]
    },
    {
      "cell_type": "code",
      "metadata": {
        "id": "kDPSleVSptAh"
      },
      "source": [
        "# Importation des bibliothèques\r\n",
        "import os\r\n",
        "import numpy as np\r\n",
        "import matplotlib\r\n",
        "%matplotlib inline\r\n",
        "import matplotlib.pyplot as plt\r\n",
        "import cv2 as cv\r\n",
        "import random\r\n",
        "import pickle\r\n",
        "from sklearn.metrics import confusion_matrix\r\n",
        "import time\r\n",
        "from datetime import timedelta\r\n",
        "import math\r\n",
        "import tensorflow as tf\r\n",
        "from tensorflow import keras"
      ],
      "execution_count": null,
      "outputs": []
    },
    {
      "cell_type": "markdown",
      "metadata": {
        "id": "c_8SKXLvwgFA"
      },
      "source": [
        "#### Variables"
      ]
    },
    {
      "cell_type": "code",
      "metadata": {
        "id": "NYOaYFjlwlDU"
      },
      "source": [
        "\r\n",
        "CATEGORIES = [\"ya\", \"yab\", \"yach\", \"yad\", \"yadd\", \"yae\", \"yaf\", \"yag\", \"yagh\", \r\n",
        "              \"yagw\", \"yah\", \"yahh\", \"yaj\", \"yak\", \"yakw\", \"yal\", \"yam\", \"yan\", \r\n",
        "              \"yaq\", \"yar\",\"yarr\", \"yas\", \"yass\", \"yat\", \"yatt\", \"yaw\", \"yax\", \r\n",
        "              \"yay\", \"yaz\", \"yazz\", \"yey\", \"yi\", \"yu\"] # a list of all possible classes\r\n",
        "T_CATEGORIES = ['ⴰ', 'ⴱ', 'ⵛ', 'ⴷ', 'ⴹ', 'ⵄ', 'ⴼ', 'ⴳ', 'ⵖ', 'ⴳⵯ', 'ⵀ', 'ⵃ', 'ⵊ', 'ⴽ', 'ⴽⵯ',\r\n",
        "                'ⵍ','ⵎ','ⵏ', 'ⵇ', 'ⵔ', 'ⵕ', 'ⵙ', 'ⵚ', 'ⵜ', 'ⵟ', 'ⵡ', 'ⵅ', 'ⵢ', 'ⵣ','ⵥ', 'ⴻ', 'ⵉ', 'ⵓ']\r\n",
        "\r\n",
        "training_data = [] # cette liste qui contiendra les données d'entraînement traitées\r\n",
        "testing_data = [] # cette liste qui contiendra les données de test traitées"
      ],
      "execution_count": null,
      "outputs": []
    },
    {
      "cell_type": "markdown",
      "metadata": {
        "id": "KT29UQrnd5G0"
      },
      "source": [
        "\r\n",
        "# CHARGEMENT DU DATASET"
      ]
    },
    {
      "cell_type": "code",
      "metadata": {
        "id": "Vl4_nyb6goN6"
      },
      "source": [
        "\r\n",
        "#@markdown \\\r\n",
        "#@markdown #### Entrez le chemin d'accès au répertoire DATASET dans votre Drive:\r\n",
        "chemin = \"\" #@param {type:\"string\"}\r\n",
        "#@markdown \\\r\n",
        "\r\n",
        "if chemin == \"\":\r\n",
        "    chemin = \"genie info/Rapport PFE - HexaCoders/DATASET\" #default path\r\n",
        "# Declaration des Variables\r\n",
        "DIR = os.path.join(\"/content/drive/MyDrive\",chemin) # h the path to the DATASET dir  in your drive\r\n",
        "TRAIN_DATA_DIR = os.path.join(DIR,\"training_data/\")\r\n",
        "TEST_DATA_DIR = os.path.join(DIR,\"testing_data/\")\r\n",
        "MODEL_DIR = os.path.join(DIR,\"model/\")\r\n",
        "TRAIN_MODEL_DIR = os.path.join(DIR,\"model/train/\")\r\n",
        "TEST_MODEL_DIR = os.path.join(DIR,\"model/test/\")\r\n"
      ],
      "execution_count": null,
      "outputs": []
    },
    {
      "cell_type": "markdown",
      "metadata": {
        "id": "pdc2JFHU77S7"
      },
      "source": [
        "\r\n",
        "## DONNÉES D'ENTRAÎNEMENT"
      ]
    },
    {
      "cell_type": "markdown",
      "metadata": {
        "id": "_N_yFjf_qXCP"
      },
      "source": [
        "\r\n",
        "#### Préparation des données"
      ]
    },
    {
      "cell_type": "markdown",
      "metadata": {
        "id": "0S-Vd6uGsYcO"
      },
      "source": [
        "<b>OpenCV</b> (référencé par cv) est une bibliothèque multi-plateforme qui nous permet de développer des applications de vision par ordinateur en temps réel. Elle se concentre principalement sur le traitement des images en temps réel., la capture et l'analyse vidéo, y compris des fonctionnalités telles que la détection des visages et des objets."
      ]
    },
    {
      "cell_type": "code",
      "metadata": {
        "id": "GTDF8xVxkhrs"
      },
      "source": [
        "training_data = [] # la liste qui contiendra les données d'entraînement traitées\r\n",
        "def prepare_training_data():\r\n",
        "    for category in CATEGORIES :\r\n",
        "        path = os.path.join(TRAIN_DATA_DIR, category)\r\n",
        "        class_num = CATEGORIES.index(category)  # obtention du classement (0 à 32)\r\n",
        "        for img in os.listdir(path): # itérer sur chaque image dans un dossier de caractères\r\n",
        "            img_array = cv.imread(os.path.join(path, img), cv.IMREAD_GRAYSCALE) # read graysacled images\r\n",
        "            new_array = cv.resize(img_array, (50,50)) # redimensionnement des images\r\n",
        "            training_data.append([new_array, class_num]) # append processed image to the training data list\r\n",
        "\r\n",
        "prepare_training_data() # calling the fct"
      ],
      "execution_count": null,
      "outputs": []
    },
    {
      "cell_type": "code",
      "metadata": {
        "id": "ZslzhLOz64Ib"
      },
      "source": [
        "testing_data = [] # a list that will contain processed testing data\r\n",
        "def prepare_testing_data():\r\n",
        "    for category in CATEGORIES :\r\n",
        "        path = os.path.join(TEST_DATA_DIR, category)\r\n",
        "        class_num = CATEGORIES.index(category)  # get the classification  (0 to 32)\r\n",
        "        for img in os.listdir(path): # iterate over each image in a caracter folder \r\n",
        "            img_array = cv.imread(os.path.join(path, img), cv.IMREAD_GRAYSCALE) # read graysacled images\r\n",
        "            new_array = cv.resize(img_array, (50,50)) # resizing images\r\n",
        "            testing_data.append([new_array, class_num]) # append processed image to the testing data list\r\n",
        "\r\n",
        "prepare_testing_data() # calling the fct"
      ],
      "execution_count": null,
      "outputs": []
    },
    {
      "cell_type": "markdown",
      "metadata": {
        "id": "mbCC07Y3coSH"
      },
      "source": [
        "Nous voulons mélanger les données. Pour l'instant, nos données sont sous forme de : \"ya,\"yab\", puis \"yach\" ... . Cela finit généralement par causer des problèmes, car, au début, le classificateur apprendra à prédire toujours \"ya\". Ensuite, il passera à prédire \"yab\" ..."
      ]
    },
    {
      "cell_type": "code",
      "metadata": {
        "id": "z4nf3AKE7GDh"
      },
      "source": [
        "# shuffle the  data randomly \r\n",
        "# random.shuffle(training_data)\r\n",
        "random.shuffle(testing_data)"
      ],
      "execution_count": null,
      "outputs": []
    },
    {
      "cell_type": "markdown",
      "metadata": {
        "id": "n-_F3RpVwN5d"
      },
      "source": [
        "\r\n",
        "#### Création du modèle"
      ]
    },
    {
      "cell_type": "code",
      "metadata": {
        "id": "C1vgeaDU7fHa"
      },
      "source": [
        "# Créer le modèle\r\n",
        "x_train = [] \r\n",
        "y_train = []\r\n",
        "\r\n",
        "for features,label in training_data:\r\n",
        "    x_train.append(features)\r\n",
        "    y_train.append(label)\r\n",
        "\r\n",
        "x_train = np.array(x_train)\r\n",
        "y_train = np.array(y_train)"
      ],
      "execution_count": null,
      "outputs": []
    },
    {
      "cell_type": "code",
      "metadata": {
        "id": "vfg7eK6g88Xg"
      },
      "source": [
        "# Créer le modèle\r\n",
        "x_test = [] \r\n",
        "y_test = []\r\n",
        "\r\n",
        "for features,label in testing_data:\r\n",
        "    x_test.append(features)\r\n",
        "    y_test.append(label)\r\n",
        "\r\n",
        "x_test = np.array(x_test)\r\n",
        "y_test = np.array(y_test)"
      ],
      "execution_count": null,
      "outputs": []
    },
    {
      "cell_type": "markdown",
      "metadata": {
        "id": "DeYWj6QXqgeu"
      },
      "source": [
        "\r\n",
        "#### Sauvegarde du modèle"
      ]
    },
    {
      "cell_type": "markdown",
      "metadata": {
        "id": "s4lC8VIOb_kY"
      },
      "source": [
        "Le module <b> pickle </b> met en œuvre des protocoles binaires pour sérialiser et désérialiser une structure d'objet Python. <br><br> Le \"pickling\" est le processus par lequel une hiérarchie d'objets Python est convertie en un flux d'octets."
      ]
    },
    {
      "cell_type": "code",
      "metadata": {
        "id": "VzzQfQdu7rnu"
      },
      "source": [
        "\r\n",
        "# Sauvegarder le modèle\r\n",
        "\r\n",
        "pickle_out = open(TRAIN_MODEL_DIR + \"x_train.pickle\",\"wb\")\r\n",
        "pickle.dump(x_train, pickle_out)\r\n",
        "pickle_out.close()\r\n",
        "\r\n",
        "pickle_out = open(TRAIN_MODEL_DIR + \"y_train.pickle\",\"wb\")\r\n",
        "pickle.dump(y_train, pickle_out)\r\n",
        "pickle_out.close()"
      ],
      "execution_count": null,
      "outputs": []
    },
    {
      "cell_type": "code",
      "metadata": {
        "id": "oo_g1sU_9Okt"
      },
      "source": [
        "# Sauvegarder le modèle\r\n",
        "\r\n",
        "pickle_out = open(TEST_MODEL_DIR + \"x_test.pickle\",\"wb\")\r\n",
        "pickle.dump(x_test, pickle_out)\r\n",
        "pickle_out.close()\r\n",
        "\r\n",
        "pickle_out = open(TEST_MODEL_DIR + \"y_test.pickle\",\"wb\")\r\n",
        "pickle.dump(y_test, pickle_out)\r\n",
        "pickle_out.close()"
      ],
      "execution_count": null,
      "outputs": []
    },
    {
      "cell_type": "markdown",
      "metadata": {
        "id": "a9s-a1jwqqQQ"
      },
      "source": [
        "\r\n",
        "#### Téléchargement du modèle"
      ]
    },
    {
      "cell_type": "markdown",
      "metadata": {
        "id": "_PRFC3SurZOH"
      },
      "source": [
        "Le \"unpickling\" est l'opération inverse, par laquelle un flux d'octets (provenant d'un fichier binaire ou d'un objet de type octet) est reconverti en une hiérarchie d'objets."
      ]
    },
    {
      "cell_type": "code",
      "metadata": {
        "id": "a8tLrB3_72kp"
      },
      "source": [
        "# to load the model we use the script\r\n",
        "pickle_in = open(TRAIN_MODEL_DIR + \"x_train.pickle\",\"rb\")\r\n",
        "x_train = pickle.load(pickle_in)\r\n",
        "\r\n",
        "pickle_in = open(TRAIN_MODEL_DIR + \"y_train.pickle\",\"rb\")\r\n",
        "y_train = pickle.load(pickle_in)"
      ],
      "execution_count": null,
      "outputs": []
    },
    {
      "cell_type": "code",
      "metadata": {
        "id": "rwSHBy139ayT"
      },
      "source": [
        "# to load the model we use the script\r\n",
        "pickle_in = open(TEST_MODEL_DIR + \"x_test.pickle\",\"rb\")\r\n",
        "x_test = pickle.load(pickle_in)\r\n",
        "\r\n",
        "pickle_in = open(TEST_MODEL_DIR + \"y_test.pickle\",\"rb\")\r\n",
        "y_test = pickle.load(pickle_in)"
      ],
      "execution_count": null,
      "outputs": []
    },
    {
      "cell_type": "markdown",
      "metadata": {
        "id": "04UMVpJcIDiv"
      },
      "source": [
        "# CRÉER LE RÉSEAU NURAL CONVOLUTIONNEL"
      ]
    },
    {
      "cell_type": "markdown",
      "metadata": {
        "id": "NaQ6iTWVBtzS"
      },
      "source": [
        "#### Helper-function for plotting images\r\n"
      ]
    },
    {
      "cell_type": "code",
      "metadata": {
        "id": "QBcIZgZKBssY"
      },
      "source": [
        "def plot_image(image, cls_true, cls_pred=None):\r\n",
        "\r\n",
        "    plt.imshow(image.reshape(img_shape), cmap='gray')\r\n",
        "    \r\n",
        "    # Show true and predicted classes.\r\n",
        "    if cls_pred is None:\r\n",
        "        plt.figtext(.5,0,\"True: {0}\".format(T_CATEGORIES[cls_true]), fontsize=14, ha='center')\r\n",
        "    else:\r\n",
        "          plt.figtext(.5,0, \"True: {0}, Pred: {1}\".format(T_CATEGORIES[cls_true], T_CATEGORIES[cls_pred]), fontsize=14, ha='center')\r\n",
        "        \r\n",
        "    plt.axis('off')\r\n",
        "\r\n",
        "    plt.show()"
      ],
      "execution_count": null,
      "outputs": []
    },
    {
      "cell_type": "markdown",
      "metadata": {
        "id": "rM8TPLkXr7Mu"
      },
      "source": [
        "#### CNN Configurations "
      ]
    },
    {
      "cell_type": "markdown",
      "metadata": {
        "id": "9I5wu7iWBicv"
      },
      "source": [
        "#### Dimensions de Donnees pour plus de commodité"
      ]
    },
    {
      "cell_type": "code",
      "metadata": {
        "id": "o2A6pz5O_l0k"
      },
      "source": [
        "# The number of pixels in each dimension of an image.\r\n",
        "img_size = 50\r\n",
        "\r\n",
        "# The images are stored in one-dimensional arrays of this length.\r\n",
        "img_size_flat = 50*50\r\n",
        "\r\n",
        "# Tuple with height and width of images used to reshape arrays.\r\n",
        "img_shape = (50, 50)\r\n",
        "\r\n",
        "# Number of classes, one class for each of 33 alphabet.\r\n",
        "num_classes = 33\r\n",
        "\r\n",
        "# Number of colour channels for the images: 1 channel for gray-scale.\r\n",
        "num_channels = 1"
      ],
      "execution_count": null,
      "outputs": []
    },
    {
      "cell_type": "markdown",
      "metadata": {
        "id": "MKc7mXkVQHP5"
      },
      "source": [
        "\r\n",
        "#### Structuration des entrées"
      ]
    },
    {
      "cell_type": "code",
      "metadata": {
        "id": "7k1w_AkRNO5g"
      },
      "source": [
        "# to reduce the computition we convert the numbers from float64 => float32\r\n",
        "# we normalise (deviding all by 255.0) to make numbers between 0 => 1 instead of 0 => 255\r\n",
        "x_train = x_train.reshape(-1,50,50,1).astype(\"float32\") / 255.0 \r\n",
        "x_test = x_test.reshape(-1,50,50,1).astype(\"float32\") / 255.0\r\n",
        "\r\n",
        "y_train = keras.utils.to_categorical(y_train, 33)\r\n",
        "y_test = keras.utils.to_categorical(y_test, 33)\r\n"
      ],
      "execution_count": null,
      "outputs": []
    },
    {
      "cell_type": "markdown",
      "metadata": {
        "id": "lDznGxmqAwJB"
      },
      "source": [
        "#### CREATE THE VGG16 MODEL"
      ]
    },
    {
      "cell_type": "code",
      "metadata": {
        "id": "vkDu2lrKAvqo"
      },
      "source": [
        "from keras.models import Sequential\r\n",
        "from keras.layers.normalization import BatchNormalization\r\n",
        "from keras.layers.convolutional import Conv2D\r\n",
        "from keras.layers.convolutional import MaxPooling2D\r\n",
        "from keras.layers.core import Activation\r\n",
        "from keras.layers.core import Flatten\r\n",
        "from keras.layers.core import Dropout\r\n",
        "from keras.layers.core import Dense\r\n",
        "from keras import backend as K\r\n",
        "\r\n",
        "def VGG16(width, height, depth, classes):\r\n",
        "\t\t# initialize the model along with the input shape to be\r\n",
        "\t\t# \"channels last\" and the channels dimension itself\r\n",
        "\t\tmodel = Sequential()\r\n",
        "\t\tinputShape = (height, width, depth)\r\n",
        "\t\tchanDim = -1\r\n",
        "\t\t# CONV => RELU => POOL layer set\r\n",
        "\t\tmodel.add(Conv2D(32, (3, 3), padding=\"same\", input_shape=inputShape))\r\n",
        "\t\tmodel.add(Activation(\"relu\"))\r\n",
        "\t\tmodel.add(BatchNormalization(axis=chanDim))\r\n",
        "\t\tmodel.add(MaxPooling2D(pool_size=(2, 2)))\r\n",
        "\t\t#model.add(Dropout(0.25))\r\n",
        "\r\n",
        "\t\t# (CONV => RELU) * 2 => POOL layer set\r\n",
        "\t\tmodel.add(Conv2D(64, (3, 3), padding=\"same\"))\r\n",
        "\t\tmodel.add(Activation(\"relu\"))\r\n",
        "\t\tmodel.add(BatchNormalization(axis=chanDim))\r\n",
        "\t\tmodel.add(Conv2D(64, (3, 3), padding=\"same\"))\r\n",
        "\t\tmodel.add(Activation(\"relu\"))\r\n",
        "\t\tmodel.add(BatchNormalization(axis=chanDim))\r\n",
        "\t\tmodel.add(MaxPooling2D(pool_size=(2, 2)))\r\n",
        "\t\tmodel.add(Dropout(0.40))\r\n",
        "\r\n",
        "\t\t# (CONV => RELU) * 3 => POOL layer set\r\n",
        "\t\tmodel.add(Conv2D(128, (3, 3), padding=\"same\"))\r\n",
        "\t\tmodel.add(Activation(\"relu\"))\r\n",
        "\t\tmodel.add(BatchNormalization(axis=chanDim))\r\n",
        "\t\tmodel.add(Conv2D(128, (3, 3), padding=\"same\"))\r\n",
        "\t\tmodel.add(Activation(\"relu\"))\r\n",
        "\t\tmodel.add(BatchNormalization(axis=chanDim))\r\n",
        "\t\tmodel.add(Conv2D(128, (3, 3), padding=\"same\"))\r\n",
        "\t\tmodel.add(Activation(\"relu\"))\r\n",
        "\t\tmodel.add(BatchNormalization(axis=chanDim))\r\n",
        "\t\tmodel.add(MaxPooling2D(pool_size=(2, 2)))\r\n",
        "\t\tmodel.add(Dropout(0.40))\r\n",
        "\r\n",
        "\t\t# first (and only) set of FC => RELU layers\r\n",
        "\t\tmodel.add(Flatten())\r\n",
        "\t\tmodel.add(Dense(512))\r\n",
        "\t\tmodel.add(Activation(\"relu\"))\r\n",
        "\t\tmodel.add(BatchNormalization())\r\n",
        "\t\tmodel.add(Dropout(0.5))\r\n",
        "\r\n",
        "\t\t# softmax classifier\r\n",
        "\t\tmodel.add(Dense(classes))\r\n",
        "\t\tmodel.add(Activation(\"softmax\"))\r\n",
        "\r\n",
        "\t\t# return the constructed network architecture\r\n",
        "\t\treturn model"
      ],
      "execution_count": null,
      "outputs": []
    },
    {
      "cell_type": "code",
      "metadata": {
        "id": "0NBU-pb5BUW0"
      },
      "source": [
        "model = VGG16(width=50, height=50, depth=1, classes=33)"
      ],
      "execution_count": null,
      "outputs": []
    },
    {
      "cell_type": "code",
      "metadata": {
        "id": "HINrWgfYBqWz",
        "colab": {
          "base_uri": "https://localhost:8080/"
        },
        "outputId": "df53846a-debb-49a1-f30b-3f39e467b6be"
      },
      "source": [
        "# and batch size\r\n",
        "INIT_LR = 0.001\r\n",
        "EPOCHS = 20\r\n",
        "BS = 16\r\n",
        "print(\"Model info... \\n \")\r\n",
        "print(model.summary())"
      ],
      "execution_count": null,
      "outputs": [
        {
          "output_type": "stream",
          "text": [
            "Model info... \n",
            " \n",
            "Model: \"sequential\"\n",
            "_________________________________________________________________\n",
            "Layer (type)                 Output Shape              Param #   \n",
            "=================================================================\n",
            "conv2d (Conv2D)              (None, 50, 50, 32)        320       \n",
            "_________________________________________________________________\n",
            "activation (Activation)      (None, 50, 50, 32)        0         \n",
            "_________________________________________________________________\n",
            "batch_normalization (BatchNo (None, 50, 50, 32)        128       \n",
            "_________________________________________________________________\n",
            "max_pooling2d (MaxPooling2D) (None, 25, 25, 32)        0         \n",
            "_________________________________________________________________\n",
            "conv2d_1 (Conv2D)            (None, 25, 25, 64)        18496     \n",
            "_________________________________________________________________\n",
            "activation_1 (Activation)    (None, 25, 25, 64)        0         \n",
            "_________________________________________________________________\n",
            "batch_normalization_1 (Batch (None, 25, 25, 64)        256       \n",
            "_________________________________________________________________\n",
            "conv2d_2 (Conv2D)            (None, 25, 25, 64)        36928     \n",
            "_________________________________________________________________\n",
            "activation_2 (Activation)    (None, 25, 25, 64)        0         \n",
            "_________________________________________________________________\n",
            "batch_normalization_2 (Batch (None, 25, 25, 64)        256       \n",
            "_________________________________________________________________\n",
            "max_pooling2d_1 (MaxPooling2 (None, 12, 12, 64)        0         \n",
            "_________________________________________________________________\n",
            "dropout (Dropout)            (None, 12, 12, 64)        0         \n",
            "_________________________________________________________________\n",
            "conv2d_3 (Conv2D)            (None, 12, 12, 128)       73856     \n",
            "_________________________________________________________________\n",
            "activation_3 (Activation)    (None, 12, 12, 128)       0         \n",
            "_________________________________________________________________\n",
            "batch_normalization_3 (Batch (None, 12, 12, 128)       512       \n",
            "_________________________________________________________________\n",
            "conv2d_4 (Conv2D)            (None, 12, 12, 128)       147584    \n",
            "_________________________________________________________________\n",
            "activation_4 (Activation)    (None, 12, 12, 128)       0         \n",
            "_________________________________________________________________\n",
            "batch_normalization_4 (Batch (None, 12, 12, 128)       512       \n",
            "_________________________________________________________________\n",
            "conv2d_5 (Conv2D)            (None, 12, 12, 128)       147584    \n",
            "_________________________________________________________________\n",
            "activation_5 (Activation)    (None, 12, 12, 128)       0         \n",
            "_________________________________________________________________\n",
            "batch_normalization_5 (Batch (None, 12, 12, 128)       512       \n",
            "_________________________________________________________________\n",
            "max_pooling2d_2 (MaxPooling2 (None, 6, 6, 128)         0         \n",
            "_________________________________________________________________\n",
            "dropout_1 (Dropout)          (None, 6, 6, 128)         0         \n",
            "_________________________________________________________________\n",
            "flatten (Flatten)            (None, 4608)              0         \n",
            "_________________________________________________________________\n",
            "dense (Dense)                (None, 512)               2359808   \n",
            "_________________________________________________________________\n",
            "activation_6 (Activation)    (None, 512)               0         \n",
            "_________________________________________________________________\n",
            "batch_normalization_6 (Batch (None, 512)               2048      \n",
            "_________________________________________________________________\n",
            "dropout_2 (Dropout)          (None, 512)               0         \n",
            "_________________________________________________________________\n",
            "dense_1 (Dense)              (None, 33)                16929     \n",
            "_________________________________________________________________\n",
            "activation_7 (Activation)    (None, 33)                0         \n",
            "=================================================================\n",
            "Total params: 2,805,729\n",
            "Trainable params: 2,803,617\n",
            "Non-trainable params: 2,112\n",
            "_________________________________________________________________\n",
            "None\n"
          ],
          "name": "stdout"
        }
      ]
    },
    {
      "cell_type": "code",
      "metadata": {
        "colab": {
          "base_uri": "https://localhost:8080/"
        },
        "id": "rAzB2YU0dSTm",
        "outputId": "15afb955-2225-493c-835c-177c65eff9cf"
      },
      "source": [
        "print(\"[INFO] training network...\")\r\n",
        "opt = keras.optimizers.Adam(lr= INIT_LR, decay= INIT_LR / EPOCHS)\r\n",
        "model.compile(loss=\"categorical_crossentropy\", optimizer=opt,\r\n",
        "\tmetrics=[\"accuracy\"])"
      ],
      "execution_count": null,
      "outputs": [
        {
          "output_type": "stream",
          "text": [
            "[INFO] training network...\n"
          ],
          "name": "stdout"
        }
      ]
    },
    {
      "cell_type": "code",
      "metadata": {
        "id": "WxZeM1QgleAi"
      },
      "source": [
        "tf.config.run_functions_eagerly(True)"
      ],
      "execution_count": null,
      "outputs": []
    },
    {
      "cell_type": "code",
      "metadata": {
        "colab": {
          "base_uri": "https://localhost:8080/"
        },
        "id": "YV0b9Cz3ddgU",
        "outputId": "8dca0f9f-7f76-4e71-9d41-d4f22af3da6f"
      },
      "source": [
        "# train the network + monitor\r\n",
        "H = model.fit(x=x_train, y=y_train, batch_size=BS,\r\n",
        "              validation_data=(x_test, y_test), \r\n",
        "              steps_per_epoch= len(y_train) // BS, epochs=EPOCHS)\r\n",
        "print(\"[INFO] training Done...\")"
      ],
      "execution_count": null,
      "outputs": [
        {
          "output_type": "stream",
          "text": [
            "Epoch 1/20\n",
            "\r   1/1443 [..............................] - ETA: 3:42 - loss: 0.0027 - accuracy: 1.0000"
          ],
          "name": "stdout"
        },
        {
          "output_type": "stream",
          "text": [
            "/usr/local/lib/python3.7/dist-packages/tensorflow/python/data/ops/dataset_ops.py:3504: UserWarning: Even though the tf.config.experimental_run_functions_eagerly option is set, this option does not apply to tf.data functions. tf.data functions are still traced and executed as graphs.\n",
            "  \"Even though the tf.config.experimental_run_functions_eagerly \"\n"
          ],
          "name": "stderr"
        },
        {
          "output_type": "stream",
          "text": [
            "1443/1443 [==============================] - 50s 34ms/step - loss: 0.0311 - accuracy: 0.9910 - val_loss: 0.0515 - val_accuracy: 0.9920\n",
            "Epoch 2/20\n",
            "1443/1443 [==============================] - 49s 34ms/step - loss: 0.0212 - accuracy: 0.9943 - val_loss: 0.0568 - val_accuracy: 0.9909\n",
            "Epoch 3/20\n",
            "1443/1443 [==============================] - 50s 35ms/step - loss: 0.0269 - accuracy: 0.9919 - val_loss: 0.0357 - val_accuracy: 0.9958\n",
            "Epoch 4/20\n",
            "1443/1443 [==============================] - 50s 35ms/step - loss: 0.0172 - accuracy: 0.9950 - val_loss: 0.0395 - val_accuracy: 0.9939\n",
            "Epoch 5/20\n",
            "1443/1443 [==============================] - 49s 34ms/step - loss: 0.0151 - accuracy: 0.9951 - val_loss: 0.0944 - val_accuracy: 0.9708\n",
            "Epoch 6/20\n",
            "1443/1443 [==============================] - 51s 35ms/step - loss: 0.0152 - accuracy: 0.9959 - val_loss: 0.0503 - val_accuracy: 0.9936\n",
            "Epoch 7/20\n",
            "1443/1443 [==============================] - 50s 34ms/step - loss: 0.0129 - accuracy: 0.9968 - val_loss: 0.0479 - val_accuracy: 0.9924\n",
            "Epoch 8/20\n",
            "1443/1443 [==============================] - 49s 34ms/step - loss: 0.0111 - accuracy: 0.9972 - val_loss: 0.0454 - val_accuracy: 0.9962\n",
            "Epoch 9/20\n",
            "1443/1443 [==============================] - 50s 35ms/step - loss: 0.0090 - accuracy: 0.9974 - val_loss: 0.0392 - val_accuracy: 0.9955\n",
            "Epoch 10/20\n",
            "1443/1443 [==============================] - 49s 34ms/step - loss: 0.0111 - accuracy: 0.9966 - val_loss: 0.0366 - val_accuracy: 0.9958\n",
            "Epoch 11/20\n",
            "1443/1443 [==============================] - 49s 34ms/step - loss: 0.0074 - accuracy: 0.9978 - val_loss: 0.0371 - val_accuracy: 0.9947\n",
            "Epoch 12/20\n",
            "1443/1443 [==============================] - 49s 34ms/step - loss: 0.0055 - accuracy: 0.9985 - val_loss: 0.0876 - val_accuracy: 0.9788\n",
            "Epoch 13/20\n",
            "1443/1443 [==============================] - 49s 34ms/step - loss: 0.0102 - accuracy: 0.9973 - val_loss: 0.0385 - val_accuracy: 0.9966\n",
            "Epoch 14/20\n",
            "1443/1443 [==============================] - 49s 34ms/step - loss: 0.0077 - accuracy: 0.9984 - val_loss: 0.0375 - val_accuracy: 0.9939\n",
            "Epoch 15/20\n",
            "1443/1443 [==============================] - 49s 34ms/step - loss: 0.0064 - accuracy: 0.9983 - val_loss: 0.0343 - val_accuracy: 0.9958\n",
            "Epoch 16/20\n",
            "1443/1443 [==============================] - 50s 34ms/step - loss: 0.0041 - accuracy: 0.9986 - val_loss: 0.0401 - val_accuracy: 0.9958\n",
            "Epoch 17/20\n",
            "1443/1443 [==============================] - 50s 35ms/step - loss: 0.0070 - accuracy: 0.9983 - val_loss: 0.0410 - val_accuracy: 0.9962\n",
            "Epoch 18/20\n",
            "1443/1443 [==============================] - 49s 34ms/step - loss: 0.0064 - accuracy: 0.9982 - val_loss: 0.0406 - val_accuracy: 0.9966\n",
            "Epoch 19/20\n",
            "1443/1443 [==============================] - 49s 34ms/step - loss: 0.0071 - accuracy: 0.9981 - val_loss: 0.0352 - val_accuracy: 0.9973\n",
            "Epoch 20/20\n",
            "1443/1443 [==============================] - 49s 34ms/step - loss: 0.0042 - accuracy: 0.9985 - val_loss: 0.0360 - val_accuracy: 0.9973\n",
            "[INFO] training Done...\n"
          ],
          "name": "stdout"
        }
      ]
    },
    {
      "cell_type": "markdown",
      "metadata": {
        "id": "cVHndBshuqe5"
      },
      "source": [
        "#### Saving the trained model"
      ]
    },
    {
      "cell_type": "code",
      "metadata": {
        "id": "64yc_yloAn-l",
        "colab": {
          "base_uri": "https://localhost:8080/"
        },
        "outputId": "8831aa42-557c-46f7-af18-fe92914f9d00"
      },
      "source": [
        "model.save(os.path.join(MODEL_DIR,\"VGG16-3.model\"))"
      ],
      "execution_count": null,
      "outputs": [
        {
          "output_type": "stream",
          "text": [
            "INFO:tensorflow:Assets written to: /content/drive/MyDrive/genie info/Rapport PFE - HexaCoders/DATASET/model/VGG16-3.model/assets\n"
          ],
          "name": "stdout"
        }
      ]
    },
    {
      "cell_type": "markdown",
      "metadata": {
        "id": "0H-8V26Cjy5o"
      },
      "source": [
        "#### Export the model for ttoserflowjs"
      ]
    },
    {
      "cell_type": "code",
      "metadata": {
        "id": "sAWKW2WNuBSh"
      },
      "source": [
        "model.save('model.h5')"
      ],
      "execution_count": null,
      "outputs": []
    },
    {
      "cell_type": "code",
      "metadata": {
        "id": "ib8zQrzBVqKD"
      },
      "source": [
        "pip install tensorflowjs"
      ],
      "execution_count": null,
      "outputs": []
    },
    {
      "cell_type": "code",
      "metadata": {
        "id": "ZNlIZDaNV3L3",
        "colab": {
          "base_uri": "https://localhost:8080/"
        },
        "outputId": "ae1e9f07-3916-4e4a-ced3-633318a41830"
      },
      "source": [
        "!mkdir model\r\n",
        "!tensorflowjs_converter --input_format keras model.h5 model/"
      ],
      "execution_count": null,
      "outputs": [
        {
          "output_type": "stream",
          "text": [
            "2021-03-02 09:49:23.547643: I tensorflow/stream_executor/platform/default/dso_loader.cc:49] Successfully opened dynamic library libcudart.so.10.1\n"
          ],
          "name": "stdout"
        }
      ]
    },
    {
      "cell_type": "code",
      "metadata": {
        "id": "9fXtlQ_cWE9n",
        "colab": {
          "base_uri": "https://localhost:8080/"
        },
        "outputId": "b84142db-78b6-438f-a961-7e19bce34838"
      },
      "source": [
        "!zip -r model.zip model "
      ],
      "execution_count": null,
      "outputs": [
        {
          "output_type": "stream",
          "text": [
            "  adding: model/ (stored 0%)\n",
            "  adding: model/model.json (deflated 90%)\n",
            "  adding: model/group1-shard3of3.bin (deflated 7%)\n",
            "  adding: model/group1-shard1of3.bin (deflated 7%)\n",
            "  adding: model/group1-shard2of3.bin (deflated 7%)\n"
          ],
          "name": "stdout"
        }
      ]
    },
    {
      "cell_type": "code",
      "metadata": {
        "id": "IscXbhQKkHjO"
      },
      "source": [
        "from google.colab import files\r\n",
        "files.download('model.zip')"
      ],
      "execution_count": null,
      "outputs": []
    },
    {
      "cell_type": "markdown",
      "metadata": {
        "id": "R01nd_mIVIEz"
      },
      "source": [
        "#### Load the model"
      ]
    },
    {
      "cell_type": "code",
      "metadata": {
        "id": "NFOdMkaFVMLd"
      },
      "source": [
        "model = keras.models.load_model(os.path.join(MODEL_DIR,\"VGG16-3.model\"))"
      ],
      "execution_count": null,
      "outputs": []
    },
    {
      "cell_type": "markdown",
      "metadata": {
        "id": "kG9eblfrvq0u"
      },
      "source": [
        "#### Statistics"
      ]
    },
    {
      "cell_type": "code",
      "metadata": {
        "colab": {
          "base_uri": "https://localhost:8080/"
        },
        "id": "gOoP3X4E5Diu",
        "outputId": "f581309c-6b92-4aa6-e068-cbdb7ee81ffe"
      },
      "source": [
        "scores = model.evaluate (x_test, y_test, verbose=0)\r\n",
        "print(\"Accuracy = \"+str(scores[1]*100)+\" \\n\")"
      ],
      "execution_count": null,
      "outputs": [
        {
          "output_type": "stream",
          "text": [
            "Accuracy = 99.73484873771667 \n",
            "\n"
          ],
          "name": "stdout"
        }
      ]
    },
    {
      "cell_type": "code",
      "metadata": {
        "colab": {
          "base_uri": "https://localhost:8080/",
          "height": 581
        },
        "id": "TY3FJpC06a8K",
        "outputId": "4d69060e-5977-4e78-e37b-6e29eeba1b36"
      },
      "source": [
        "# plot the training loss \r\n",
        "N = np.arange(0, EPOCHS)\r\n",
        "plt.style.use(\"ggplot\")\r\n",
        "plt.figure()\r\n",
        "plt.plot(N, H.history[\"loss\"], label=\"train_loss\")\r\n",
        "plt.plot(N, H.history[\"val_loss\"], label=\"val_loss\")\r\n",
        "plt.title(\"Loss: VGG_Net \")\r\n",
        "plt.xlabel(\"Epoch #\")\r\n",
        "plt.ylabel(\"Loss\")\r\n",
        "plt.legend()\r\n",
        "plt.savefig(\"Loss_plot_256.png\")\r\n",
        "\r\n",
        "# plot the training accuracy\r\n",
        "N = np.arange(0, EPOCHS)\r\n",
        "plt.style.use(\"ggplot\")\r\n",
        "plt.figure()\r\n",
        "plt.plot(N, H.history[\"accuracy\"], label=\"train_acc\") \r\n",
        "plt.plot(N, H.history[\"val_accuracy\"], label=\"val_acc\")\r\n",
        "plt.title(\"Accuracy: VGG16 By HexaCoders\")\r\n",
        "plt.xlabel(\"Epoch #\")\r\n",
        "plt.ylabel(\"Accuracy\")\r\n",
        "plt.legend()\r\n",
        "plt.savefig(\"Accuracy_plot_256.png\")"
      ],
      "execution_count": null,
      "outputs": [
        {
          "output_type": "display_data",
          "data": {
            "image/png": "[encoded data removed]",
            "text/plain": [
              "<Figure size 432x288 with 1 Axes>"
            ]
          },
          "metadata": {
            "tags": []
          }
        },
        {
          "output_type": "display_data",
          "data": {
            "image/png": "[encoded data removed]",
            "text/plain": [
              "<Figure size 432x288 with 1 Axes>"
            ]
          },
          "metadata": {
            "tags": []
          }
        }
      ]
    },
    {
      "cell_type": "code",
      "metadata": {
        "colab": {
          "base_uri": "https://localhost:8080/",
          "height": 947
        },
        "id": "MuGdD7DN6ro-",
        "outputId": "c793c104-45b7-4eb3-f31a-253809e087d2"
      },
      "source": [
        "# ploting confision matrix\r\n",
        "from mlxtend.plotting import plot_confusion_matrix\r\n",
        "from sklearn.metrics import confusion_matrix\r\n",
        "\r\n",
        "y_pred = model.predict_classes(x_test)\r\n",
        "y_test_mat=np.argmax(y_test, axis=1)\r\n",
        "mat = confusion_matrix(y_test_mat, y_pred)\r\n",
        "plt.figure()\r\n",
        "plot_confusion_matrix(conf_mat=mat, figsize=(14, 14))\r\n",
        "plt.savefig(\"conf_mat.png\")\r\n",
        "print(\"Ploting Conf_Mat..................\")"
      ],
      "execution_count": null,
      "outputs": [
        {
          "output_type": "stream",
          "text": [
            "/usr/local/lib/python3.7/dist-packages/tensorflow/python/keras/engine/sequential.py:450: UserWarning: `model.predict_classes()` is deprecated and will be removed after 2021-01-01. Please use instead:* `np.argmax(model.predict(x), axis=-1)`,   if your model does multi-class classification   (e.g. if it uses a `softmax` last-layer activation).* `(model.predict(x) > 0.5).astype(\"int32\")`,   if your model does binary classification   (e.g. if it uses a `sigmoid` last-layer activation).\n",
            "  warnings.warn('`model.predict_classes()` is deprecated and '\n",
            "/usr/local/lib/python3.7/dist-packages/tensorflow/python/data/ops/dataset_ops.py:3504: UserWarning: Even though the tf.config.experimental_run_functions_eagerly option is set, this option does not apply to tf.data functions. tf.data functions are still traced and executed as graphs.\n",
            "  \"Even though the tf.config.experimental_run_functions_eagerly \"\n"
          ],
          "name": "stderr"
        },
        {
          "output_type": "stream",
          "text": [
            "Ploting Conf_Mat..................\n"
          ],
          "name": "stdout"
        },
        {
          "output_type": "display_data",
          "data": {
            "text/plain": [
              "<Figure size 432x288 with 0 Axes>"
            ]
          },
          "metadata": {
            "tags": []
          }
        },
        {
          "output_type": "display_data",
          "data": {
            "image/png": "[encoded data removed]",
            "text/plain": [
              "<Figure size 1008x1008 with 1 Axes>"
            ]
          },
          "metadata": {
            "tags": []
          }
        }
      ]
    },
    {
      "cell_type": "code",
      "metadata": {
        "id": "qp2YMmNBHo0j",
        "colab": {
          "base_uri": "https://localhost:8080/"
        },
        "outputId": "05c54b2c-75ab-4845-f200-20991b4bbd0e"
      },
      "source": [
        "for i in range(33):\r\n",
        "    print(str(i) +' => ' + CATEGORIES[i] + ' => ' + T_CATEGORIES[i])"
      ],
      "execution_count": null,
      "outputs": [
        {
          "output_type": "stream",
          "text": [
            "0 => ya => ⴰ\n",
            "1 => yab => ⴱ\n",
            "2 => yach => ⵛ\n",
            "3 => yad => ⴷ\n",
            "4 => yadd => ⴹ\n",
            "5 => yae => ⵄ\n",
            "6 => yaf => ⴼ\n",
            "7 => yag => ⴳ\n",
            "8 => yagh => ⵖ\n",
            "9 => yagw => ⴳⵯ\n",
            "10 => yah => ⵀ\n",
            "11 => yahh => ⵃ\n",
            "12 => yaj => ⵊ\n",
            "13 => yak => ⴽ\n",
            "14 => yakw => ⴽⵯ\n",
            "15 => yal => ⵍ\n",
            "16 => yam => ⵎ\n",
            "17 => yan => ⵏ\n",
            "18 => yaq => ⵇ\n",
            "19 => yar => ⵔ\n",
            "20 => yarr => ⵕ\n",
            "21 => yas => ⵙ\n",
            "22 => yass => ⵚ\n",
            "23 => yat => ⵜ\n",
            "24 => yatt => ⵟ\n",
            "25 => yaw => ⵡ\n",
            "26 => yax => ⵅ\n",
            "27 => yay => ⵢ\n",
            "28 => yaz => ⵣ\n",
            "29 => yazz => ⵥ\n",
            "30 => yey => ⴻ\n",
            "31 => yi => ⵉ\n",
            "32 => yu => ⵓ\n"
          ],
          "name": "stdout"
        }
      ]
    },
    {
      "cell_type": "code",
      "metadata": {
        "id": "7VOX0mxKkU5E"
      },
      "source": [
        ""
      ],
      "execution_count": null,
      "outputs": []
    }
  ]
}