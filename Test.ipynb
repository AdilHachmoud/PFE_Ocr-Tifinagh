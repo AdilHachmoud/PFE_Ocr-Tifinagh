{
  "nbformat": 4,
  "nbformat_minor": 0,
  "metadata": {
    "colab": {
      "name": "Test.ipynb",
      "provenance": [],
      "collapsed_sections": [],
      "toc_visible": true,
      "include_colab_link": true
    },
    "kernelspec": {
      "name": "python3",
      "display_name": "Python 3"
    },
    "accelerator": "GPU"
  },
  "cells": [
    {
      "cell_type": "markdown",
      "metadata": {
        "id": "view-in-github",
        "colab_type": "text"
      },
      "source": [
        "<a href=\"https://colab.research.google.com/github/abderrazzaq-laanoui/PFE-HexaCoders/blob/Test/Test.ipynb\" target=\"_parent\"><img src=\"https://colab.research.google.com/assets/colab-badge.svg\" alt=\"Open In Colab\"/></a>"
      ]
    },
    {
      "cell_type": "markdown",
      "metadata": {
        "id": "E8hCO76eiaTU"
      },
      "source": [
        "<div style=\"text-align:center\"><h1>RECONNAISSANCE DE L'ÉCRITURE MANUSCRITE DE LESTTRES TEFINAGH</h1></div>\r\n",
        "\r\n",
        "---"
      ]
    },
    {
      "cell_type": "markdown",
      "metadata": {
        "id": "OitfG5_HkHB5"
      },
      "source": [
        "Machine Learning\r\n",
        "===\r\n"
      ]
    },
    {
      "cell_type": "markdown",
      "metadata": {
        "id": "BzdfRE-Xl-Pw"
      },
      "source": [
        "## Qu'est-ce que l'apprentissage automatique (Machine Learning) ?\r\n",
        "\r\n",
        "\r\n",
        "---\r\n",
        ">The field of study that gives computers the ability to learn without being explicitly programmed.\r\n",
        ">\r\n",
        ">**_Arthur Samuel_**\r\n",
        "\r\n",
        ">A computer program is said to learn from experience E with respect to some class of tasks T and performance measure P, if its performance at tasks in T, as measured by P, improves with experience E.\r\n",
        ">\r\n",
        ">**_Tom Mitchell_**\r\n",
        "\r\n",
        "#### Exemple : jouer aux dames.\r\n",
        "\r\n",
        "\r\n",
        "- **E** =  L'experience est de jouer à de nombreuses parties de dames.\r\n",
        "\r\n",
        "- **T** =  La tâche consiste à jouer aux dames.\r\n",
        "\r\n",
        "- **P** =  La performance est la probabilité que le programme gagne le prochain match. "
      ]
    },
    {
      "cell_type": "markdown",
      "metadata": {
        "id": "3YsV3_BLn0r7"
      },
      "source": [
        "## Types de machine learning\r\n",
        "\r\n",
        "\r\n",
        "---\r\n",
        "En général, tout problème de Machine Learning peut être attribué à l'une des deux grandes classifications :\r\n",
        "\r\n",
        "## Apprentissage Supervisé:\r\n",
        "Dans l'apprentissage supervisé, on nous donne un ensemble de données et nous savons déjà à quoi doit ressembler notre sortie correcte, en ayant l'idée qu'il y a une relation entre l'entrée et la sortie.\r\n",
        "\r\n",
        "Les problèmes d'apprentissage supervisés sont classés en deux catégories : les problèmes de **_\"régression\"_** et les problèmes de **_\"classification\"_**. \\\r\n",
        "Dans un problème de régression, nous essayons de prédire les résultats dans une sortie continue, ce qui signifie que nous essayons de faire correspondre les variables d'entrée à une fonction continue quelconque. \\\r\n",
        "Dans un problème de classification, nous essayons plutôt de prédire les résultats dans une sortie discrète. En d'autres termes, nous essayons de faire correspondre les variables d'entrée à des catégories discrètes. \r\n",
        "\r\n",
        "#### Exemple :\r\n",
        "- **Régression** : En se basant sur l'image donnée d'une personne, il faut prévoir son âge\r\n",
        "\r\n",
        "- **Classification** : Pour un patient atteint d'une tumeur, nous devons prévoir si la tumeur est maligne ou bénigne.\r\n",
        "\r\n",
        "## Apprentissage Non-Supervisé:\r\n",
        "\r\n",
        "L'apprentissage non supervisé nous permet d'aborder les problèmes avec peu ou pas d'idée de ce à quoi nos résultats devraient ressembler. Nous pouvons obtenir une structure à partir de données dont nous ne connaissons pas nécessairement l'effet des variables.\r\n",
        "\r\n",
        "Nous pouvons dériver cette structure en regroupant les données en fonction des relations entre les variables dans les données.\r\n",
        "\r\n",
        "Avec l'apprentissage non supervisé, il n'y a pas de retour d'information basé sur les résultats de la prédiction.\r\n",
        "\r\n",
        "#### Exemple :\r\n",
        "- **Regroupement** : Prenez une collection de 1 000 000 de gènes différents, et trouvez un moyen de regrouper automatiquement ces gènes en groupes qui sont en quelque sorte similaires ou liés par différentes variables, telles que la durée de vie, l'emplacement, les rôles, etc.\r\n",
        "- **Non-groupée** : L'algorithme \"Cocktail Party\", vous permet de trouver une structure dans un environnement chaotique. (c'est-à-dire identifier des voix et des musiques individuelles à partir d'un maillage de sons lors d'un cocktail)."
      ]
    },
    {
      "cell_type": "markdown",
      "metadata": {
        "id": "KT29UQrnd5G0"
      },
      "source": [
        "# LOADING UP THE DATASET"
      ]
    },
    {
      "cell_type": "code",
      "metadata": {
        "id": "eCrPAac4eeMo",
        "colab": {
          "base_uri": "https://localhost:8080/"
        },
        "outputId": "d594629d-b6d0-4cb2-dd9b-b55e6a8df401"
      },
      "source": [
        "# mount Google Drive\n",
        "from google.colab import drive\n",
        "drive.mount('/content/drive')"
      ],
      "execution_count": 1,
      "outputs": [
        {
          "output_type": "stream",
          "text": [
            "Mounted at /content/drive\n"
          ],
          "name": "stdout"
        }
      ]
    },
    {
      "cell_type": "code",
      "metadata": {
        "id": "svq_MDEee7Uk"
      },
      "source": [
        "# import libraries\r\n",
        "import numpy as np\r\n",
        "import matplotlib.pyplot as plt\r\n",
        "import os\r\n",
        "import cv2"
      ],
      "execution_count": 3,
      "outputs": []
    },
    {
      "cell_type": "code",
      "metadata": {
        "id": "Vl4_nyb6goN6"
      },
      "source": [
        "# Variables Declaration\r\n",
        "DIR = \"/content/drive/MyDrive/genie info/Rapport PFE - HexaCoders/DATASET/\" # change this with the path to the DATASET dir data in your drive\r\n",
        "TRAINDATADIR = os.path.join(DIR,\"training_data/\")\r\n",
        "TESTDATADIR = os.path.join(DIR,\"testing_data/\")\r\n",
        "MODELDIR = os.path.join(DIR,\"model/\")\r\n",
        "\r\n",
        "CATEGORIES = [\"ya\", \"yab\", \"yach\", \"yad\", \"yadd\", \"yae\", \"yaf\", \"yag\", \"yagh\", \r\n",
        "              \"yagw\", \"yah\", \"yahh\", \"yaj\", \"yak\", \"yakw\", \"yal\", \"yam\", \"yan\", \r\n",
        "              \"yaq\", \"yar\",\"yarr\", \"yas\", \"yass\", \"yat\", \"yatt\", \"yaw\", \"yax\", \r\n",
        "              \"yay\", \"yaz\", \"yazz\", \"yey\", \"yi\", \"yu\"] # a list of all possible classes\r\n",
        "\r\n",
        "training_data = [] # a list that will contain processed training data\r\n",
        "testing_data = [] # a list that will contain processed testing data"
      ],
      "execution_count": 11,
      "outputs": []
    },
    {
      "cell_type": "code",
      "metadata": {
        "id": "GTDF8xVxkhrs"
      },
      "source": [
        "def prepare_training_data():\r\n",
        "    i = 0\r\n",
        "    for category in CATEGORIES :\r\n",
        "        path = os.path.join(TRAINDATADIR, category)\r\n",
        "        class_num = CATEGORIES.index(category)  # get the classification  (0 to 32)\r\n",
        "        for img in os.listdir(path): # iterate over each image in a caracter folder \r\n",
        "            img_array = cv2.imread(os.path.join(path, img), cv2.IMREAD_GRAYSCALE) # read graysacled images\r\n",
        "            new_array = cv2.resize(img_array, (50,50)) # resizing images\r\n",
        "            training_data.append([new_array, class_num]) # append processed image to the training data list\r\n",
        "            i+=1\r\n",
        "            dispaly(str(i) \"/25740\") \r\n",
        "            \r\n",
        "prepare_training_data()"
      ],
      "execution_count": null,
      "outputs": []
    },
    {
      "cell_type": "code",
      "metadata": {
        "id": "z4nf3AKE7GDh"
      },
      "source": [
        "# shuffle the training data randomly \r\n",
        "import random\r\n",
        "random.shuffle(training_data)"
      ],
      "execution_count": null,
      "outputs": []
    },
    {
      "cell_type": "code",
      "metadata": {
        "id": "C1vgeaDU7fHa"
      },
      "source": [
        "# Create the model\r\n",
        "X = []\r\n",
        "Y = []\r\n",
        "\r\n",
        "for features,label in training_data:\r\n",
        "    X.append(features)\r\n",
        "    Y.append(label)"
      ],
      "execution_count": null,
      "outputs": []
    },
    {
      "cell_type": "code",
      "metadata": {
        "id": "VzzQfQdu7rnu"
      },
      "source": [
        "# Saving the model\r\n",
        "import pickle\r\n",
        "\r\n",
        "pickle_out = open(\"X.pickle\",\"wb\")\r\n",
        "pickle.dump(X, pickle_out)\r\n",
        "pickle_out.close()\r\n",
        "\r\n",
        "pickle_out = open(\"Y.pickle\",\"wb\")\r\n",
        "pickle.dump(Y, pickle_out)\r\n",
        "pickle_out.close()"
      ],
      "execution_count": null,
      "outputs": []
    },
    {
      "cell_type": "code",
      "metadata": {
        "id": "a8tLrB3_72kp",
        "outputId": "300f92b7-b831-4fb6-e63a-3708f929e286",
        "colab": {
          "base_uri": "https://localhost:8080/",
          "height": 239
        }
      },
      "source": [
        "# to load the model we use the script\r\n",
        "pickle_in = open(MODELDIR + \"X.pickle\",\"rb\")\r\n",
        "X = pickle.load(pickle_in)\r\n",
        "\r\n",
        "pickle_in = open(MODELDIR + \"Y.pickle\",\"rb\")\r\n",
        "Y = pickle.load(pickle_in)"
      ],
      "execution_count": 9,
      "outputs": [
        {
          "output_type": "error",
          "ename": "NameError",
          "evalue": "ignored",
          "traceback": [
            "\u001b[0;31m---------------------------------------------------------------------------\u001b[0m",
            "\u001b[0;31mNameError\u001b[0m                                 Traceback (most recent call last)",
            "\u001b[0;32m<ipython-input-9-13e50c0a4135>\u001b[0m in \u001b[0;36m<module>\u001b[0;34m()\u001b[0m\n\u001b[1;32m      1\u001b[0m \u001b[0;31m# to load the model we use the script\u001b[0m\u001b[0;34m\u001b[0m\u001b[0;34m\u001b[0m\u001b[0;34m\u001b[0m\u001b[0m\n\u001b[0;32m----> 2\u001b[0;31m \u001b[0mpickle_in\u001b[0m \u001b[0;34m=\u001b[0m \u001b[0mopen\u001b[0m\u001b[0;34m(\u001b[0m\u001b[0mMODELDIR\u001b[0m \u001b[0;34m+\u001b[0m \u001b[0;34m\"X.pickle\"\u001b[0m\u001b[0;34m,\u001b[0m\u001b[0;34m\"rb\"\u001b[0m\u001b[0;34m)\u001b[0m\u001b[0;34m\u001b[0m\u001b[0;34m\u001b[0m\u001b[0m\n\u001b[0m\u001b[1;32m      3\u001b[0m \u001b[0mX\u001b[0m \u001b[0;34m=\u001b[0m \u001b[0mpickle\u001b[0m\u001b[0;34m.\u001b[0m\u001b[0mload\u001b[0m\u001b[0;34m(\u001b[0m\u001b[0mpickle_in\u001b[0m\u001b[0;34m)\u001b[0m\u001b[0;34m\u001b[0m\u001b[0;34m\u001b[0m\u001b[0m\n\u001b[1;32m      4\u001b[0m \u001b[0;34m\u001b[0m\u001b[0m\n\u001b[1;32m      5\u001b[0m \u001b[0mpickle_in\u001b[0m \u001b[0;34m=\u001b[0m \u001b[0mopen\u001b[0m\u001b[0;34m(\u001b[0m\u001b[0mMODELDIR\u001b[0m \u001b[0;34m+\u001b[0m \u001b[0;34m\"Y.pickle\"\u001b[0m\u001b[0;34m,\u001b[0m\u001b[0;34m\"rb\"\u001b[0m\u001b[0;34m)\u001b[0m\u001b[0;34m\u001b[0m\u001b[0;34m\u001b[0m\u001b[0m\n",
            "\u001b[0;31mNameError\u001b[0m: name 'MODELDIR' is not defined"
          ]
        }
      ]
    }
  ]
}