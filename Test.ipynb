{
  "nbformat": 4,
  "nbformat_minor": 0,
  "metadata": {
    "colab": {
      "name": "Test.ipynb",
      "provenance": [],
      "collapsed_sections": [],
      "toc_visible": true,
      "authorship_tag": "ABX9TyNKELHkjeav8BJdA3239bnH",
      "include_colab_link": true
    },
    "kernelspec": {
      "name": "python3",
      "display_name": "Python 3"
    }
  },
  "cells": [
    {
      "cell_type": "markdown",
      "metadata": {
        "id": "view-in-github",
        "colab_type": "text"
      },
      "source": [
        "<a href=\"https://colab.research.google.com/github/abderrazzaq-laanoui/PFE-HexaCoders/blob/Test/Test.ipynb\" target=\"_parent\"><img src=\"https://colab.research.google.com/assets/colab-badge.svg\" alt=\"Open In Colab\"/></a>"
      ]
    },
    {
      "cell_type": "markdown",
      "metadata": {
        "id": "E8hCO76eiaTU"
      },
      "source": [
        "RECONNAISSANCE DE L'ÉCRITURE MANUSCRITE DE LESTTRES TEFINAGH\r\n",
        "==="
      ]
    },
    {
      "cell_type": "markdown",
      "metadata": {
        "id": "OitfG5_HkHB5"
      },
      "source": [
        "Machine Learning\r\n",
        "===\r\n"
      ]
    },
    {
      "cell_type": "markdown",
      "metadata": {
        "id": "BzdfRE-Xl-Pw"
      },
      "source": [
        "## Qu'est-ce que l'apprentissage automatique (Machine Learning) ?\r\n",
        "\r\n",
        "\r\n",
        "---\r\n",
        ">The field of study that gives computers the ability to learn without being explicitly programmed.\r\n",
        ">\r\n",
        ">**_Arthur Samuel_**\r\n",
        "\r\n",
        ">A computer program is said to learn from experience E with respect to some class of tasks T and performance measure P, if its performance at tasks in T, as measured by P, improves with experience E.\r\n",
        ">\r\n",
        ">**_Tom Mitchell_**\r\n",
        "\r\n",
        "#### Exemple : jouer aux dames.\r\n",
        "\r\n",
        "\r\n",
        "- **E** =  L'experience est de jouer à de nombreuses parties de dames.\r\n",
        "\r\n",
        "- **T** =  La tâche consiste à jouer aux dames.\r\n",
        "\r\n",
        "- **P** =  La performance est la probabilité que le programme gagne le prochain match. "
      ]
    },
    {
      "cell_type": "markdown",
      "metadata": {
        "id": "3YsV3_BLn0r7"
      },
      "source": [
        "## Types de machine learning\r\n",
        "\r\n",
        "\r\n",
        "---\r\n",
        "En général, tout problème de Machine Learning peut être attribué à l'une des deux grandes classifications :\r\n",
        "\r\n",
        "## Apprentissage Supervisé:\r\n",
        "Dans l'apprentissage supervisé, on nous donne un ensemble de données et nous savons déjà à quoi doit ressembler notre sortie correcte, en ayant l'idée qu'il y a une relation entre l'entrée et la sortie.\r\n",
        "\r\n",
        "Les problèmes d'apprentissage supervisés sont classés en deux catégories : les problèmes de **_\"régression\"_** et les problèmes de **_\"classification\"_**. \\\r\n",
        "Dans un problème de régression, nous essayons de prédire les résultats dans une sortie continue, ce qui signifie que nous essayons de faire correspondre les variables d'entrée à une fonction continue quelconque. \\\r\n",
        "Dans un problème de classification, nous essayons plutôt de prédire les résultats dans une sortie discrète. En d'autres termes, nous essayons de faire correspondre les variables d'entrée à des catégories discrètes. \r\n",
        "\r\n",
        "#### Exemple :\r\n",
        "- **Régression** : En se basant sur l'image donnée d'une personne, il faut prévoir son âge\r\n",
        "\r\n",
        "- **Classification** : Pour un patient atteint d'une tumeur, nous devons prévoir si la tumeur est maligne ou bénigne.\r\n",
        "\r\n",
        "## Apprentissage Non-Supervisé:\r\n",
        "\r\n",
        "L'apprentissage non supervisé nous permet d'aborder les problèmes avec peu ou pas d'idée de ce à quoi nos résultats devraient ressembler. Nous pouvons obtenir une structure à partir de données dont nous ne connaissons pas nécessairement l'effet des variables.\r\n",
        "\r\n",
        "Nous pouvons dériver cette structure en regroupant les données en fonction des relations entre les variables dans les données.\r\n",
        "\r\n",
        "Avec l'apprentissage non supervisé, il n'y a pas de retour d'information basé sur les résultats de la prédiction.\r\n",
        "\r\n",
        "#### Exemple :\r\n",
        "- **Regroupement** : Prenez une collection de 1 000 000 de gènes différents, et trouvez un moyen de regrouper automatiquement ces gènes en groupes qui sont en quelque sorte similaires ou liés par différentes variables, telles que la durée de vie, l'emplacement, les rôles, etc.\r\n",
        "- **Non-groupée** : L'algorithme \"Cocktail Party\", vous permet de trouver une structure dans un environnement chaotique. (c'est-à-dire identifier des voix et des musiques individuelles à partir d'un maillage de sons lors d'un cocktail)."
      ]
    }
  ]
}